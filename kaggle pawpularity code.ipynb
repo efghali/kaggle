{
 "cells": [
  {
   "cell_type": "code",
   "execution_count": 1,
   "id": "edd65402",
   "metadata": {
    "_cell_guid": "b1076dfc-b9ad-4769-8c92-a6c4dae69d19",
    "_uuid": "8f2839f25d086af736a60e9eeb907d3b93b6e0e5",
    "execution": {
     "iopub.execute_input": "2022-01-12T17:57:28.241200Z",
     "iopub.status.busy": "2022-01-12T17:57:28.239678Z",
     "iopub.status.idle": "2022-01-12T17:57:28.241829Z",
     "shell.execute_reply": "2022-01-12T17:57:28.242227Z",
     "shell.execute_reply.started": "2022-01-12T14:09:53.521212Z"
    },
    "papermill": {
     "duration": 0.022593,
     "end_time": "2022-01-12T17:57:28.242435",
     "exception": false,
     "start_time": "2022-01-12T17:57:28.219842",
     "status": "completed"
    },
    "tags": []
   },
   "outputs": [],
   "source": [
    "## `wa`# This Python 3 environment comes with many helpful analytics libraries installed\n",
    "# It is defined by the kaggle/python Docker image: https://github.com/kaggle/docker-python\n",
    "# For example, here's several helpful packages to load\n",
    "\n",
    "#import numpy as np # linear algebra\n",
    "#import pandas as pd # data processing, CSV file I/O (e.g. pd.read_csv)\n",
    "\n",
    "# Input data files are available in the read-only \"../input/\" directory\n",
    "# For example, running this (by clicking run or pressing Shift+Enter) will list all files under the input directory\n",
    "\n",
    "#import os\n",
    "#for dirname, _, filenames in os.walk('/kaggle/input'):\n",
    "#    for filename in filenames:\n",
    "#        print(os.path.join(dirname, filename))\n",
    "\n",
    "# You can write up to 20GB to the current directory (/kaggle/working/) that gets preserved as output when you create a version using \"Save & Run All\" \n",
    "# You can also write temporary files to /kaggle/temp/, but they won't be saved outside of the current session\n",
    "\n"
   ]
  },
  {
   "cell_type": "code",
   "execution_count": 2,
   "id": "a8c267da",
   "metadata": {
    "execution": {
     "iopub.execute_input": "2022-01-12T17:57:28.277568Z",
     "iopub.status.busy": "2022-01-12T17:57:28.276150Z",
     "iopub.status.idle": "2022-01-12T17:57:34.162645Z",
     "shell.execute_reply": "2022-01-12T17:57:34.163174Z",
     "shell.execute_reply.started": "2022-01-12T14:09:53.544807Z"
    },
    "papermill": {
     "duration": 5.907474,
     "end_time": "2022-01-12T17:57:34.163381",
     "exception": false,
     "start_time": "2022-01-12T17:57:28.255907",
     "status": "completed"
    },
    "tags": []
   },
   "outputs": [],
   "source": [
    "import cv2\n",
    "import tensorflow as tf\n",
    "from tensorflow import keras\n",
    "from tensorflow.keras import layers\n",
    "from skimage.transform import resize"
   ]
  },
  {
   "cell_type": "code",
   "execution_count": 3,
   "id": "10c79fe8",
   "metadata": {
    "execution": {
     "iopub.execute_input": "2022-01-12T17:57:34.193115Z",
     "iopub.status.busy": "2022-01-12T17:57:34.191565Z",
     "iopub.status.idle": "2022-01-12T17:57:34.195476Z",
     "shell.execute_reply": "2022-01-12T17:57:34.195024Z",
     "shell.execute_reply.started": "2022-01-12T14:09:59.361343Z"
    },
    "papermill": {
     "duration": 0.019051,
     "end_time": "2022-01-12T17:57:34.195608",
     "exception": false,
     "start_time": "2022-01-12T17:57:34.176557",
     "status": "completed"
    },
    "tags": []
   },
   "outputs": [],
   "source": [
    "import os\n",
    "import numpy as np\n",
    "import pandas as pd\n",
    "import time"
   ]
  },
  {
   "cell_type": "code",
   "execution_count": 4,
   "id": "e8684baa",
   "metadata": {
    "execution": {
     "iopub.execute_input": "2022-01-12T17:57:34.224102Z",
     "iopub.status.busy": "2022-01-12T17:57:34.223246Z",
     "iopub.status.idle": "2022-01-12T17:57:34.227401Z",
     "shell.execute_reply": "2022-01-12T17:57:34.227012Z",
     "shell.execute_reply.started": "2022-01-12T14:09:59.369532Z"
    },
    "papermill": {
     "duration": 0.019149,
     "end_time": "2022-01-12T17:57:34.227518",
     "exception": false,
     "start_time": "2022-01-12T17:57:34.208369",
     "status": "completed"
    },
    "tags": []
   },
   "outputs": [],
   "source": [
    "os.chdir('/kaggle/')"
   ]
  },
  {
   "cell_type": "code",
   "execution_count": 5,
   "id": "edd6783f",
   "metadata": {
    "execution": {
     "iopub.execute_input": "2022-01-12T17:57:34.257415Z",
     "iopub.status.busy": "2022-01-12T17:57:34.256905Z",
     "iopub.status.idle": "2022-01-12T17:57:34.289055Z",
     "shell.execute_reply": "2022-01-12T17:57:34.289660Z",
     "shell.execute_reply.started": "2022-01-12T14:09:59.382597Z"
    },
    "papermill": {
     "duration": 0.049173,
     "end_time": "2022-01-12T17:57:34.289788",
     "exception": false,
     "start_time": "2022-01-12T17:57:34.240615",
     "status": "completed"
    },
    "tags": []
   },
   "outputs": [],
   "source": [
    "df = pd.read_csv('input/petfinder-pawpularity-score/train.csv')"
   ]
  },
  {
   "cell_type": "code",
   "execution_count": 6,
   "id": "278da8f8",
   "metadata": {
    "execution": {
     "iopub.execute_input": "2022-01-12T17:57:34.318965Z",
     "iopub.status.busy": "2022-01-12T17:57:34.318066Z",
     "iopub.status.idle": "2022-01-12T17:57:34.326395Z",
     "shell.execute_reply": "2022-01-12T17:57:34.325953Z",
     "shell.execute_reply.started": "2022-01-12T14:09:59.418035Z"
    },
    "papermill": {
     "duration": 0.02365,
     "end_time": "2022-01-12T17:57:34.326494",
     "exception": false,
     "start_time": "2022-01-12T17:57:34.302844",
     "status": "completed"
    },
    "tags": []
   },
   "outputs": [],
   "source": [
    "df_test = pd.read_csv(\"input/petfinder-pawpularity-score/test.csv\")"
   ]
  },
  {
   "cell_type": "code",
   "execution_count": 7,
   "id": "bed51ff9",
   "metadata": {
    "execution": {
     "iopub.execute_input": "2022-01-12T17:57:34.354827Z",
     "iopub.status.busy": "2022-01-12T17:57:34.354018Z",
     "iopub.status.idle": "2022-01-12T17:57:34.360626Z",
     "shell.execute_reply": "2022-01-12T17:57:34.361017Z",
     "shell.execute_reply.started": "2022-01-12T14:09:59.428704Z"
    },
    "papermill": {
     "duration": 0.021909,
     "end_time": "2022-01-12T17:57:34.361129",
     "exception": false,
     "start_time": "2022-01-12T17:57:34.339220",
     "status": "completed"
    },
    "tags": []
   },
   "outputs": [
    {
     "data": {
      "text/plain": [
       "\"\\ndf_2 = df[(df['Pawpularity']<100) | (df['Pawpularity'] > 3)]\\ndf_2.reset_index\\ndf_2.head()\\n\""
      ]
     },
     "execution_count": 7,
     "metadata": {},
     "output_type": "execute_result"
    }
   ],
   "source": [
    "'''\n",
    "df_2 = df[(df['Pawpularity']<100) | (df['Pawpularity'] > 3)]\n",
    "df_2.reset_index\n",
    "df_2.head()\n",
    "'''"
   ]
  },
  {
   "cell_type": "code",
   "execution_count": 8,
   "id": "0081f68b",
   "metadata": {
    "execution": {
     "iopub.execute_input": "2022-01-12T17:57:34.393444Z",
     "iopub.status.busy": "2022-01-12T17:57:34.392922Z",
     "iopub.status.idle": "2022-01-12T17:57:34.410461Z",
     "shell.execute_reply": "2022-01-12T17:57:34.410043Z",
     "shell.execute_reply.started": "2022-01-12T14:09:59.437464Z"
    },
    "papermill": {
     "duration": 0.036341,
     "end_time": "2022-01-12T17:57:34.410585",
     "exception": false,
     "start_time": "2022-01-12T17:57:34.374244",
     "status": "completed"
    },
    "tags": []
   },
   "outputs": [
    {
     "data": {
      "text/html": [
       "<div>\n",
       "<style scoped>\n",
       "    .dataframe tbody tr th:only-of-type {\n",
       "        vertical-align: middle;\n",
       "    }\n",
       "\n",
       "    .dataframe tbody tr th {\n",
       "        vertical-align: top;\n",
       "    }\n",
       "\n",
       "    .dataframe thead th {\n",
       "        text-align: right;\n",
       "    }\n",
       "</style>\n",
       "<table border=\"1\" class=\"dataframe\">\n",
       "  <thead>\n",
       "    <tr style=\"text-align: right;\">\n",
       "      <th></th>\n",
       "      <th>index</th>\n",
       "      <th>Id</th>\n",
       "      <th>Subject Focus</th>\n",
       "      <th>Eyes</th>\n",
       "      <th>Face</th>\n",
       "      <th>Near</th>\n",
       "      <th>Action</th>\n",
       "      <th>Accessory</th>\n",
       "      <th>Group</th>\n",
       "      <th>Collage</th>\n",
       "      <th>Human</th>\n",
       "      <th>Occlusion</th>\n",
       "      <th>Info</th>\n",
       "      <th>Blur</th>\n",
       "      <th>Pawpularity</th>\n",
       "    </tr>\n",
       "  </thead>\n",
       "  <tbody>\n",
       "    <tr>\n",
       "      <th>0</th>\n",
       "      <td>8014</td>\n",
       "      <td>cf8e3efbdf4efe64d3efd4ed1647c46a</td>\n",
       "      <td>0</td>\n",
       "      <td>1</td>\n",
       "      <td>1</td>\n",
       "      <td>1</td>\n",
       "      <td>0</td>\n",
       "      <td>0</td>\n",
       "      <td>0</td>\n",
       "      <td>0</td>\n",
       "      <td>0</td>\n",
       "      <td>0</td>\n",
       "      <td>0</td>\n",
       "      <td>0</td>\n",
       "      <td>17</td>\n",
       "    </tr>\n",
       "    <tr>\n",
       "      <th>1</th>\n",
       "      <td>1735</td>\n",
       "      <td>2c26e832aad28adead9e542ca0c8eb1f</td>\n",
       "      <td>0</td>\n",
       "      <td>1</td>\n",
       "      <td>1</td>\n",
       "      <td>1</td>\n",
       "      <td>0</td>\n",
       "      <td>0</td>\n",
       "      <td>0</td>\n",
       "      <td>0</td>\n",
       "      <td>0</td>\n",
       "      <td>0</td>\n",
       "      <td>0</td>\n",
       "      <td>0</td>\n",
       "      <td>25</td>\n",
       "    </tr>\n",
       "    <tr>\n",
       "      <th>2</th>\n",
       "      <td>5944</td>\n",
       "      <td>9a0238499efb15551f06ad583a6fa951</td>\n",
       "      <td>0</td>\n",
       "      <td>1</td>\n",
       "      <td>1</td>\n",
       "      <td>1</td>\n",
       "      <td>0</td>\n",
       "      <td>0</td>\n",
       "      <td>0</td>\n",
       "      <td>0</td>\n",
       "      <td>0</td>\n",
       "      <td>0</td>\n",
       "      <td>0</td>\n",
       "      <td>0</td>\n",
       "      <td>21</td>\n",
       "    </tr>\n",
       "    <tr>\n",
       "      <th>3</th>\n",
       "      <td>1067</td>\n",
       "      <td>1b1c7f3833828de3c93a5c938cdf602a</td>\n",
       "      <td>0</td>\n",
       "      <td>1</td>\n",
       "      <td>1</td>\n",
       "      <td>1</td>\n",
       "      <td>0</td>\n",
       "      <td>0</td>\n",
       "      <td>0</td>\n",
       "      <td>0</td>\n",
       "      <td>1</td>\n",
       "      <td>1</td>\n",
       "      <td>0</td>\n",
       "      <td>0</td>\n",
       "      <td>36</td>\n",
       "    </tr>\n",
       "    <tr>\n",
       "      <th>4</th>\n",
       "      <td>1929</td>\n",
       "      <td>3161b55e50dc9a9b45bddbd36598bdfe</td>\n",
       "      <td>0</td>\n",
       "      <td>0</td>\n",
       "      <td>1</td>\n",
       "      <td>1</td>\n",
       "      <td>0</td>\n",
       "      <td>0</td>\n",
       "      <td>0</td>\n",
       "      <td>0</td>\n",
       "      <td>0</td>\n",
       "      <td>0</td>\n",
       "      <td>0</td>\n",
       "      <td>0</td>\n",
       "      <td>23</td>\n",
       "    </tr>\n",
       "  </tbody>\n",
       "</table>\n",
       "</div>"
      ],
      "text/plain": [
       "   index                                Id  Subject Focus  Eyes  Face  Near  \\\n",
       "0   8014  cf8e3efbdf4efe64d3efd4ed1647c46a              0     1     1     1   \n",
       "1   1735  2c26e832aad28adead9e542ca0c8eb1f              0     1     1     1   \n",
       "2   5944  9a0238499efb15551f06ad583a6fa951              0     1     1     1   \n",
       "3   1067  1b1c7f3833828de3c93a5c938cdf602a              0     1     1     1   \n",
       "4   1929  3161b55e50dc9a9b45bddbd36598bdfe              0     0     1     1   \n",
       "\n",
       "   Action  Accessory  Group  Collage  Human  Occlusion  Info  Blur  \\\n",
       "0       0          0      0        0      0          0     0     0   \n",
       "1       0          0      0        0      0          0     0     0   \n",
       "2       0          0      0        0      0          0     0     0   \n",
       "3       0          0      0        0      1          1     0     0   \n",
       "4       0          0      0        0      0          0     0     0   \n",
       "\n",
       "   Pawpularity  \n",
       "0           17  \n",
       "1           25  \n",
       "2           21  \n",
       "3           36  \n",
       "4           23  "
      ]
     },
     "execution_count": 8,
     "metadata": {},
     "output_type": "execute_result"
    }
   ],
   "source": [
    "df_2 = df.sample(5000)\n",
    "df_2.reset_index(inplace = True)\n",
    "df_2.head()"
   ]
  },
  {
   "cell_type": "code",
   "execution_count": 9,
   "id": "4925422a",
   "metadata": {
    "execution": {
     "iopub.execute_input": "2022-01-12T17:57:34.441654Z",
     "iopub.status.busy": "2022-01-12T17:57:34.441031Z",
     "iopub.status.idle": "2022-01-12T17:57:34.443568Z",
     "shell.execute_reply": "2022-01-12T17:57:34.443963Z",
     "shell.execute_reply.started": "2022-01-12T14:09:59.461886Z"
    },
    "papermill": {
     "duration": 0.019965,
     "end_time": "2022-01-12T17:57:34.444075",
     "exception": false,
     "start_time": "2022-01-12T17:57:34.424110",
     "status": "completed"
    },
    "tags": []
   },
   "outputs": [
    {
     "data": {
      "text/plain": [
       "\"df_2 = df_2[(df_2['Pawpularity']<100) | (df_2['Pawpularity'] > 2)]\\ndf_2.reset_index\\ndf_2.head()\""
      ]
     },
     "execution_count": 9,
     "metadata": {},
     "output_type": "execute_result"
    }
   ],
   "source": [
    "'''df_2 = df_2[(df_2['Pawpularity']<100) | (df_2['Pawpularity'] > 2)]\n",
    "df_2.reset_index\n",
    "df_2.head()'''"
   ]
  },
  {
   "cell_type": "code",
   "execution_count": 10,
   "id": "22542a08",
   "metadata": {
    "execution": {
     "iopub.execute_input": "2022-01-12T17:57:34.474072Z",
     "iopub.status.busy": "2022-01-12T17:57:34.473228Z",
     "iopub.status.idle": "2022-01-12T17:57:34.476584Z",
     "shell.execute_reply": "2022-01-12T17:57:34.477001Z",
     "shell.execute_reply.started": "2022-01-12T14:09:59.468755Z"
    },
    "papermill": {
     "duration": 0.019555,
     "end_time": "2022-01-12T17:57:34.477115",
     "exception": false,
     "start_time": "2022-01-12T17:57:34.457560",
     "status": "completed"
    },
    "tags": []
   },
   "outputs": [],
   "source": [
    "image_size = (96, 96)"
   ]
  },
  {
   "cell_type": "code",
   "execution_count": 11,
   "id": "8c3052b1",
   "metadata": {
    "execution": {
     "iopub.execute_input": "2022-01-12T17:57:34.513956Z",
     "iopub.status.busy": "2022-01-12T17:57:34.513384Z",
     "iopub.status.idle": "2022-01-12T18:11:23.945113Z",
     "shell.execute_reply": "2022-01-12T18:11:23.945858Z",
     "shell.execute_reply.started": "2022-01-12T14:09:59.478564Z"
    },
    "papermill": {
     "duration": 829.455243,
     "end_time": "2022-01-12T18:11:23.946094",
     "exception": false,
     "start_time": "2022-01-12T17:57:34.490851",
     "status": "completed"
    },
    "tags": []
   },
   "outputs": [
    {
     "name": "stdout",
     "output_type": "stream",
     "text": [
      "Done\n",
      "CPU times: user 16min 40s, sys: 6min 19s, total: 22min 59s\n",
      "Wall time: 13min 49s\n"
     ]
    }
   ],
   "source": [
    "%%time\n",
    "images=[]\n",
    "loc = 'input/petfinder-pawpularity-score/train/'\n",
    "for index in range(df_2.shape[0]):\n",
    "    id=df_2.loc[index,'Id']\n",
    "    path= loc + str(id) + '.jpg'\n",
    "    im_array=cv2.imread(path)\n",
    "    im_array=resize(im_array,image_size,anti_aliasing=True)\n",
    "    images.append(im_array)\n",
    "\n",
    "print('Done')"
   ]
  },
  {
   "cell_type": "code",
   "execution_count": 12,
   "id": "61b1d7c5",
   "metadata": {
    "execution": {
     "iopub.execute_input": "2022-01-12T18:11:24.006775Z",
     "iopub.status.busy": "2022-01-12T18:11:24.005661Z",
     "iopub.status.idle": "2022-01-12T18:11:24.340241Z",
     "shell.execute_reply": "2022-01-12T18:11:24.340741Z",
     "shell.execute_reply.started": "2022-01-12T14:12:42.734017Z"
    },
    "papermill": {
     "duration": 0.367946,
     "end_time": "2022-01-12T18:11:24.340915",
     "exception": false,
     "start_time": "2022-01-12T18:11:23.972969",
     "status": "completed"
    },
    "tags": []
   },
   "outputs": [],
   "source": [
    "X=np.array(images)\n",
    "X=X.reshape(-1,96,96,3)\n",
    "\n",
    "del images\n",
    "#X.shape"
   ]
  },
  {
   "cell_type": "code",
   "execution_count": 13,
   "id": "959b5f4e",
   "metadata": {
    "execution": {
     "iopub.execute_input": "2022-01-12T18:11:24.374791Z",
     "iopub.status.busy": "2022-01-12T18:11:24.373924Z",
     "iopub.status.idle": "2022-01-12T18:11:24.376195Z",
     "shell.execute_reply": "2022-01-12T18:11:24.375695Z",
     "shell.execute_reply.started": "2022-01-12T14:12:42.82675Z"
    },
    "papermill": {
     "duration": 0.020564,
     "end_time": "2022-01-12T18:11:24.376295",
     "exception": false,
     "start_time": "2022-01-12T18:11:24.355731",
     "status": "completed"
    },
    "tags": []
   },
   "outputs": [],
   "source": [
    "y=df_2['Pawpularity']\n",
    "#y.shape"
   ]
  },
  {
   "cell_type": "code",
   "execution_count": 14,
   "id": "47add7a0",
   "metadata": {
    "execution": {
     "iopub.execute_input": "2022-01-12T18:11:24.413808Z",
     "iopub.status.busy": "2022-01-12T18:11:24.413174Z",
     "iopub.status.idle": "2022-01-12T18:11:26.681102Z",
     "shell.execute_reply": "2022-01-12T18:11:26.681540Z",
     "shell.execute_reply.started": "2022-01-12T14:12:42.832484Z"
    },
    "papermill": {
     "duration": 2.290953,
     "end_time": "2022-01-12T18:11:26.681690",
     "exception": false,
     "start_time": "2022-01-12T18:11:24.390737",
     "status": "completed"
    },
    "tags": []
   },
   "outputs": [
    {
     "name": "stderr",
     "output_type": "stream",
     "text": [
      "2022-01-12 18:11:24.481332: I tensorflow/stream_executor/cuda/cuda_gpu_executor.cc:937] successful NUMA node read from SysFS had negative value (-1), but there must be at least one NUMA node, so returning NUMA node zero\n"
     ]
    },
    {
     "name": "stdout",
     "output_type": "stream",
     "text": [
      "Model: \"sequential\"\n",
      "_________________________________________________________________\n",
      "Layer (type)                 Output Shape              Param #   \n",
      "=================================================================\n",
      "conv2d (Conv2D)              (None, 96, 96, 64)        1792      \n",
      "_________________________________________________________________\n",
      "dropout (Dropout)            (None, 96, 96, 64)        0         \n",
      "_________________________________________________________________\n",
      "conv2d_1 (Conv2D)            (None, 96, 96, 128)       73856     \n",
      "_________________________________________________________________\n",
      "dropout_1 (Dropout)          (None, 96, 96, 128)       0         \n",
      "_________________________________________________________________\n",
      "flatten (Flatten)            (None, 1179648)           0         \n",
      "_________________________________________________________________\n",
      "dropout_2 (Dropout)          (None, 1179648)           0         \n",
      "_________________________________________________________________\n",
      "dense (Dense)                (None, 512)               603980288 \n",
      "_________________________________________________________________\n",
      "dense_1 (Dense)              (None, 256)               131328    \n",
      "_________________________________________________________________\n",
      "dense_2 (Dense)              (None, 128)               32896     \n",
      "_________________________________________________________________\n",
      "dense_3 (Dense)              (None, 64)                8256      \n",
      "_________________________________________________________________\n",
      "dense_4 (Dense)              (None, 1)                 65        \n",
      "=================================================================\n",
      "Total params: 604,228,481\n",
      "Trainable params: 604,228,481\n",
      "Non-trainable params: 0\n",
      "_________________________________________________________________\n",
      "None\n"
     ]
    },
    {
     "name": "stderr",
     "output_type": "stream",
     "text": [
      "2022-01-12 18:11:24.579734: I tensorflow/stream_executor/cuda/cuda_gpu_executor.cc:937] successful NUMA node read from SysFS had negative value (-1), but there must be at least one NUMA node, so returning NUMA node zero\n",
      "2022-01-12 18:11:24.580410: I tensorflow/stream_executor/cuda/cuda_gpu_executor.cc:937] successful NUMA node read from SysFS had negative value (-1), but there must be at least one NUMA node, so returning NUMA node zero\n",
      "2022-01-12 18:11:24.581569: I tensorflow/core/platform/cpu_feature_guard.cc:142] This TensorFlow binary is optimized with oneAPI Deep Neural Network Library (oneDNN) to use the following CPU instructions in performance-critical operations:  AVX2 AVX512F FMA\n",
      "To enable them in other operations, rebuild TensorFlow with the appropriate compiler flags.\n",
      "2022-01-12 18:11:24.582721: I tensorflow/stream_executor/cuda/cuda_gpu_executor.cc:937] successful NUMA node read from SysFS had negative value (-1), but there must be at least one NUMA node, so returning NUMA node zero\n",
      "2022-01-12 18:11:24.583437: I tensorflow/stream_executor/cuda/cuda_gpu_executor.cc:937] successful NUMA node read from SysFS had negative value (-1), but there must be at least one NUMA node, so returning NUMA node zero\n",
      "2022-01-12 18:11:24.584043: I tensorflow/stream_executor/cuda/cuda_gpu_executor.cc:937] successful NUMA node read from SysFS had negative value (-1), but there must be at least one NUMA node, so returning NUMA node zero\n",
      "2022-01-12 18:11:26.237782: I tensorflow/stream_executor/cuda/cuda_gpu_executor.cc:937] successful NUMA node read from SysFS had negative value (-1), but there must be at least one NUMA node, so returning NUMA node zero\n",
      "2022-01-12 18:11:26.238602: I tensorflow/stream_executor/cuda/cuda_gpu_executor.cc:937] successful NUMA node read from SysFS had negative value (-1), but there must be at least one NUMA node, so returning NUMA node zero\n",
      "2022-01-12 18:11:26.239236: I tensorflow/stream_executor/cuda/cuda_gpu_executor.cc:937] successful NUMA node read from SysFS had negative value (-1), but there must be at least one NUMA node, so returning NUMA node zero\n",
      "2022-01-12 18:11:26.239915: I tensorflow/core/common_runtime/gpu/gpu_device.cc:1510] Created device /job:localhost/replica:0/task:0/device:GPU:0 with 15403 MB memory:  -> device: 0, name: Tesla P100-PCIE-16GB, pci bus id: 0000:00:04.0, compute capability: 6.0\n"
     ]
    }
   ],
   "source": [
    "model=tf.keras.Sequential()\n",
    "\n",
    "model.add(keras.layers.Conv2D(64, (3,3), input_shape=(96,96, 3), activation='relu', padding='same')) #was 32 instead of 64\n",
    "#model.add(keras.layers.MaxPooling2D(2))\n",
    "model.add(keras.layers.Dropout(0.1)) \n",
    "#model.add(keras.layers.BatchNormalization())\n",
    "\n",
    "'''\n",
    "model.add(keras.layers.Conv2D(64, (3, 3), padding='same', activation='relu'))\n",
    "model.add(keras.layers.MaxPooling2D(2))\n",
    "model.add(keras.layers.Dropout(0.1))\n",
    "model.add(keras.layers.BatchNormalization())\n",
    "\n",
    "model.add(keras.layers.Conv2D(64, 3, padding='same', activation='relu'))\n",
    "model.add(keras.layers.MaxPooling2D(2))\n",
    "model.add(keras.layers.Dropout(0.2))\n",
    "model.add(keras.layers.BatchNormalization())\n",
    "'''\n",
    "  \n",
    "model.add(keras.layers.Conv2D(128, (3, 3), padding='same', activation='relu'))\n",
    "#model.add(keras.layers.MaxPooling2D(2))\n",
    "model.add(keras.layers.Dropout(0.1))\n",
    "#model.add(keras.layers.BatchNormalization())\n",
    "\n",
    "model.add(keras.layers.Flatten())\n",
    "model.add(keras.layers.Dropout(0.2)) #added this\n",
    "#model.add(keras.layers.Dense(1024, activation='relu'))\n",
    "model.add(keras.layers.Dense(512, activation='relu'))\n",
    "model.add(keras.layers.Dense(256, activation='relu'))\n",
    "model.add(keras.layers.Dense(128, activation='relu'))\n",
    "#model.add(keras.layers.Dense(64, activation='relu'))\n",
    "model.add(keras.layers.Dense(64, activation='relu'))\n",
    "#model.add(keras.layers.Dropout(0.2))\n",
    "#model.add(keras.layers.BatchNormalization())\n",
    "\n",
    "model.add(keras.layers.Dense(1, activation='linear'))\n",
    "\n",
    "model.compile(loss='mean_squared_error',optimizer='adam')\n",
    "\n",
    "print(model.summary())"
   ]
  },
  {
   "cell_type": "code",
   "execution_count": 15,
   "id": "d438580b",
   "metadata": {
    "execution": {
     "iopub.execute_input": "2022-01-12T18:11:26.716551Z",
     "iopub.status.busy": "2022-01-12T18:11:26.715847Z",
     "iopub.status.idle": "2022-01-12T18:23:50.390613Z",
     "shell.execute_reply": "2022-01-12T18:23:50.391198Z",
     "shell.execute_reply.started": "2022-01-12T14:12:45.116649Z"
    },
    "papermill": {
     "duration": 743.69421,
     "end_time": "2022-01-12T18:23:50.391389",
     "exception": false,
     "start_time": "2022-01-12T18:11:26.697179",
     "status": "completed"
    },
    "tags": []
   },
   "outputs": [
    {
     "name": "stderr",
     "output_type": "stream",
     "text": [
      "2022-01-12 18:11:27.930440: I tensorflow/compiler/mlir/mlir_graph_optimization_pass.cc:185] None of the MLIR Optimization Passes are enabled (registered 2)\n"
     ]
    },
    {
     "name": "stdout",
     "output_type": "stream",
     "text": [
      "Epoch 1/50\n"
     ]
    },
    {
     "name": "stderr",
     "output_type": "stream",
     "text": [
      "2022-01-12 18:11:29.231091: I tensorflow/stream_executor/cuda/cuda_dnn.cc:369] Loaded cuDNN version 8005\n"
     ]
    },
    {
     "name": "stdout",
     "output_type": "stream",
     "text": [
      "157/157 [==============================] - 21s 93ms/step - loss: 590.0393\n",
      "Epoch 2/50\n",
      "157/157 [==============================] - 14s 92ms/step - loss: 449.9427\n",
      "Epoch 3/50\n",
      "157/157 [==============================] - 14s 92ms/step - loss: 464.4703\n",
      "Epoch 4/50\n",
      "157/157 [==============================] - 15s 93ms/step - loss: 433.3394\n",
      "Epoch 5/50\n",
      "157/157 [==============================] - 14s 92ms/step - loss: 373.5955\n",
      "Epoch 6/50\n",
      "157/157 [==============================] - 14s 92ms/step - loss: 285.0076\n",
      "Epoch 7/50\n",
      "157/157 [==============================] - 14s 92ms/step - loss: 197.7435\n",
      "Epoch 8/50\n",
      "157/157 [==============================] - 14s 92ms/step - loss: 127.4534\n",
      "Epoch 9/50\n",
      "157/157 [==============================] - 14s 92ms/step - loss: 85.9923\n",
      "Epoch 10/50\n",
      "157/157 [==============================] - 14s 92ms/step - loss: 60.1018\n",
      "Epoch 11/50\n",
      "157/157 [==============================] - 14s 92ms/step - loss: 40.5680\n",
      "Epoch 12/50\n",
      "157/157 [==============================] - 14s 92ms/step - loss: 34.1620\n",
      "Epoch 13/50\n",
      "157/157 [==============================] - 14s 92ms/step - loss: 32.5205\n",
      "Epoch 14/50\n",
      "157/157 [==============================] - 14s 92ms/step - loss: 24.5150\n",
      "Epoch 15/50\n",
      "157/157 [==============================] - 14s 92ms/step - loss: 20.6617\n",
      "Epoch 16/50\n",
      "157/157 [==============================] - 14s 92ms/step - loss: 19.7904\n",
      "Epoch 17/50\n",
      "157/157 [==============================] - 15s 92ms/step - loss: 18.1437\n",
      "Epoch 18/50\n",
      "157/157 [==============================] - 14s 92ms/step - loss: 17.0567\n",
      "Epoch 19/50\n",
      "157/157 [==============================] - 14s 92ms/step - loss: 16.7600\n",
      "Epoch 20/50\n",
      "157/157 [==============================] - 14s 92ms/step - loss: 15.3049\n",
      "Epoch 21/50\n",
      "157/157 [==============================] - 15s 92ms/step - loss: 14.4274\n",
      "Epoch 22/50\n",
      "157/157 [==============================] - 14s 92ms/step - loss: 14.5485\n",
      "Epoch 23/50\n",
      "157/157 [==============================] - 14s 92ms/step - loss: 14.5263\n",
      "Epoch 24/50\n",
      "157/157 [==============================] - 14s 92ms/step - loss: 13.5319\n",
      "Epoch 25/50\n",
      "157/157 [==============================] - 14s 92ms/step - loss: 12.4022\n",
      "Epoch 26/50\n",
      "157/157 [==============================] - 15s 93ms/step - loss: 13.7986\n",
      "Epoch 27/50\n",
      "157/157 [==============================] - 14s 92ms/step - loss: 12.6114\n",
      "Epoch 28/50\n",
      "157/157 [==============================] - 15s 93ms/step - loss: 10.9324\n",
      "Epoch 29/50\n",
      "157/157 [==============================] - 14s 92ms/step - loss: 10.7890\n",
      "Epoch 30/50\n",
      "157/157 [==============================] - 15s 92ms/step - loss: 10.8379\n",
      "Epoch 31/50\n",
      "157/157 [==============================] - 14s 92ms/step - loss: 12.3588\n",
      "Epoch 32/50\n",
      "157/157 [==============================] - 14s 92ms/step - loss: 16.4240\n",
      "Epoch 33/50\n",
      "157/157 [==============================] - 14s 92ms/step - loss: 12.6599\n",
      "Epoch 34/50\n",
      "157/157 [==============================] - 14s 92ms/step - loss: 11.0481\n",
      "Epoch 35/50\n",
      "157/157 [==============================] - 15s 93ms/step - loss: 10.2178\n",
      "Epoch 36/50\n",
      "157/157 [==============================] - 14s 92ms/step - loss: 12.0183\n",
      "Epoch 37/50\n",
      "157/157 [==============================] - 14s 92ms/step - loss: 10.9495\n",
      "Epoch 38/50\n",
      "157/157 [==============================] - 14s 92ms/step - loss: 10.3931\n",
      "Epoch 39/50\n",
      "157/157 [==============================] - 14s 92ms/step - loss: 8.8851\n",
      "Epoch 40/50\n",
      "157/157 [==============================] - 14s 92ms/step - loss: 9.2432\n",
      "Epoch 41/50\n",
      "157/157 [==============================] - 14s 92ms/step - loss: 8.8429\n",
      "Epoch 42/50\n",
      "157/157 [==============================] - 14s 92ms/step - loss: 8.5348\n",
      "Epoch 43/50\n",
      "157/157 [==============================] - 14s 92ms/step - loss: 9.6185\n",
      "Epoch 44/50\n",
      "157/157 [==============================] - 14s 92ms/step - loss: 10.4223\n",
      "Epoch 45/50\n",
      "157/157 [==============================] - 14s 92ms/step - loss: 10.0242\n",
      "Epoch 46/50\n",
      "157/157 [==============================] - 15s 93ms/step - loss: 7.5974\n",
      "Epoch 47/50\n",
      "157/157 [==============================] - 14s 92ms/step - loss: 7.2598\n",
      "Epoch 48/50\n",
      "157/157 [==============================] - 15s 93ms/step - loss: 6.7096\n",
      "Epoch 49/50\n",
      "157/157 [==============================] - 14s 92ms/step - loss: 6.9234\n",
      "Epoch 50/50\n",
      "157/157 [==============================] - 15s 93ms/step - loss: 7.5831\n",
      "CPU times: user 9min 41s, sys: 11.2 s, total: 9min 52s\n",
      "Wall time: 12min 23s\n"
     ]
    },
    {
     "data": {
      "text/plain": [
       "<keras.callbacks.History at 0x7f8f434ebe10>"
      ]
     },
     "execution_count": 15,
     "metadata": {},
     "output_type": "execute_result"
    }
   ],
   "source": [
    "%%time\n",
    "model.fit(X,y,epochs=50)"
   ]
  },
  {
   "cell_type": "code",
   "execution_count": 16,
   "id": "5e40d2fe",
   "metadata": {
    "execution": {
     "iopub.execute_input": "2022-01-12T18:23:54.769656Z",
     "iopub.status.busy": "2022-01-12T18:23:54.768842Z",
     "iopub.status.idle": "2022-01-12T18:23:54.856622Z",
     "shell.execute_reply": "2022-01-12T18:23:54.857774Z",
     "shell.execute_reply.started": "2022-01-12T14:16:07.849905Z"
    },
    "papermill": {
     "duration": 2.406304,
     "end_time": "2022-01-12T18:23:54.858014",
     "exception": false,
     "start_time": "2022-01-12T18:23:52.451710",
     "status": "completed"
    },
    "tags": []
   },
   "outputs": [],
   "source": [
    "images=[]\n",
    "locT = 'input/petfinder-pawpularity-score/test/'\n",
    "for index in range(df_test.shape[0]):\n",
    "    id=df_test.loc[index,'Id']\n",
    "    path = locT + str(id) + '.jpg'\n",
    "    im_array=cv2.imread(path)\n",
    "    im_array=resize(im_array,image_size,anti_aliasing=True)\n",
    "    images.append(im_array)\n",
    "\n",
    "X_test=np.array(images).reshape(-1,96,96,3)\n",
    "del images"
   ]
  },
  {
   "cell_type": "code",
   "execution_count": 17,
   "id": "be2fc142",
   "metadata": {
    "execution": {
     "iopub.execute_input": "2022-01-12T18:23:59.075567Z",
     "iopub.status.busy": "2022-01-12T18:23:59.074711Z",
     "iopub.status.idle": "2022-01-12T18:23:59.250796Z",
     "shell.execute_reply": "2022-01-12T18:23:59.251311Z",
     "shell.execute_reply.started": "2022-01-12T14:16:08.257914Z"
    },
    "papermill": {
     "duration": 2.239988,
     "end_time": "2022-01-12T18:23:59.251470",
     "exception": false,
     "start_time": "2022-01-12T18:23:57.011482",
     "status": "completed"
    },
    "tags": []
   },
   "outputs": [
    {
     "data": {
      "text/html": [
       "<div>\n",
       "<style scoped>\n",
       "    .dataframe tbody tr th:only-of-type {\n",
       "        vertical-align: middle;\n",
       "    }\n",
       "\n",
       "    .dataframe tbody tr th {\n",
       "        vertical-align: top;\n",
       "    }\n",
       "\n",
       "    .dataframe thead th {\n",
       "        text-align: right;\n",
       "    }\n",
       "</style>\n",
       "<table border=\"1\" class=\"dataframe\">\n",
       "  <thead>\n",
       "    <tr style=\"text-align: right;\">\n",
       "      <th></th>\n",
       "      <th>Id</th>\n",
       "      <th>Pawpularity</th>\n",
       "    </tr>\n",
       "  </thead>\n",
       "  <tbody>\n",
       "    <tr>\n",
       "      <th>0</th>\n",
       "      <td>4128bae22183829d2b5fea10effdb0c3</td>\n",
       "      <td>33.814159</td>\n",
       "    </tr>\n",
       "    <tr>\n",
       "      <th>1</th>\n",
       "      <td>43a2262d7738e3d420d453815151079e</td>\n",
       "      <td>30.825935</td>\n",
       "    </tr>\n",
       "    <tr>\n",
       "      <th>2</th>\n",
       "      <td>4e429cead1848a298432a0acad014c9d</td>\n",
       "      <td>31.145409</td>\n",
       "    </tr>\n",
       "    <tr>\n",
       "      <th>3</th>\n",
       "      <td>80bc3ccafcc51b66303c2c263aa38486</td>\n",
       "      <td>31.730209</td>\n",
       "    </tr>\n",
       "    <tr>\n",
       "      <th>4</th>\n",
       "      <td>8f49844c382931444e68dffbe20228f4</td>\n",
       "      <td>34.437244</td>\n",
       "    </tr>\n",
       "    <tr>\n",
       "      <th>5</th>\n",
       "      <td>b03f7041962238a7c9d6537e22f9b017</td>\n",
       "      <td>33.079315</td>\n",
       "    </tr>\n",
       "    <tr>\n",
       "      <th>6</th>\n",
       "      <td>c978013571258ed6d4637f6e8cc9d6a3</td>\n",
       "      <td>33.725300</td>\n",
       "    </tr>\n",
       "    <tr>\n",
       "      <th>7</th>\n",
       "      <td>e0de453c1bffc20c22b072b34b54e50f</td>\n",
       "      <td>31.048405</td>\n",
       "    </tr>\n",
       "  </tbody>\n",
       "</table>\n",
       "</div>"
      ],
      "text/plain": [
       "                                 Id  Pawpularity\n",
       "0  4128bae22183829d2b5fea10effdb0c3    33.814159\n",
       "1  43a2262d7738e3d420d453815151079e    30.825935\n",
       "2  4e429cead1848a298432a0acad014c9d    31.145409\n",
       "3  80bc3ccafcc51b66303c2c263aa38486    31.730209\n",
       "4  8f49844c382931444e68dffbe20228f4    34.437244\n",
       "5  b03f7041962238a7c9d6537e22f9b017    33.079315\n",
       "6  c978013571258ed6d4637f6e8cc9d6a3    33.725300\n",
       "7  e0de453c1bffc20c22b072b34b54e50f    31.048405"
      ]
     },
     "execution_count": 17,
     "metadata": {},
     "output_type": "execute_result"
    }
   ],
   "source": [
    "y_predict=model.predict(X_test)\n",
    "y_predict=y_predict.reshape(-1,)\n",
    "\n",
    "submission=pd.DataFrame({'Id':df_test['Id'],'Pawpularity':y_predict})\n",
    "submission"
   ]
  },
  {
   "cell_type": "code",
   "execution_count": 18,
   "id": "8aaceeab",
   "metadata": {
    "execution": {
     "iopub.execute_input": "2022-01-12T18:24:03.349430Z",
     "iopub.status.busy": "2022-01-12T18:24:03.348560Z",
     "iopub.status.idle": "2022-01-12T18:24:03.354091Z",
     "shell.execute_reply": "2022-01-12T18:24:03.353653Z",
     "shell.execute_reply.started": "2022-01-12T14:16:08.259597Z"
    },
    "papermill": {
     "duration": 2.050995,
     "end_time": "2022-01-12T18:24:03.354213",
     "exception": false,
     "start_time": "2022-01-12T18:24:01.303218",
     "status": "completed"
    },
    "tags": []
   },
   "outputs": [],
   "source": [
    "os.chdir(\"/kaggle/working/\")\n",
    "submission.to_csv('submission.csv', index = False)"
   ]
  }
 ],
 "metadata": {
  "kernelspec": {
   "display_name": "Python 3",
   "language": "python",
   "name": "python3"
  },
  "language_info": {
   "codemirror_mode": {
    "name": "ipython",
    "version": 3
   },
   "file_extension": ".py",
   "mimetype": "text/x-python",
   "name": "python",
   "nbconvert_exporter": "python",
   "pygments_lexer": "ipython3",
   "version": "3.7.12"
  },
  "papermill": {
   "default_parameters": {},
   "duration": 1608.557356,
   "end_time": "2022-01-12T18:24:08.460900",
   "environment_variables": {},
   "exception": null,
   "input_path": "__notebook__.ipynb",
   "output_path": "__notebook__.ipynb",
   "parameters": {},
   "start_time": "2022-01-12T17:57:19.903544",
   "version": "2.3.3"
  }
 },
 "nbformat": 4,
 "nbformat_minor": 5
}
